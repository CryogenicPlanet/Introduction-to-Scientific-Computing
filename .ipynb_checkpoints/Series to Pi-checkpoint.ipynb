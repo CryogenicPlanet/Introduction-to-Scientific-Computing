{
 "cells": [
  {
   "cell_type": "code",
   "execution_count": 11,
   "metadata": {},
   "outputs": [
    {
     "name": "stdout",
     "output_type": "stream",
     "text": [
      "-0.2\n",
      "0.2\n",
      "-0.1111111111111111\n",
      "0.1111111111111111\n",
      "-0.07692307692307693\n",
      "0.07692307692307693\n",
      "-0.058823529411764705\n",
      "0.058823529411764705\n",
      "-0.047619047619047616\n",
      "0.047619047619047616\n",
      "4.0\n"
     ]
    }
   ],
   "source": [
    "sum = 1\n",
    "base = 1\n",
    "for i in range(1,11):\n",
    "    sign = (-1)**(i)\n",
    "    if i % 2 == 1:\n",
    "        base = base + 4\n",
    "        print(base)\n",
    "    #print(sign*(1/base))\n",
    "    sum = sum + sign*(1/base)\n",
    "pi = sum*4\n",
    "print(pi)\n"
   ]
  },
  {
   "cell_type": "code",
   "execution_count": null,
   "metadata": {},
   "outputs": [],
   "source": []
  }
 ],
 "metadata": {
  "kernelspec": {
   "display_name": "Python 3",
   "language": "python",
   "name": "python3"
  },
  "language_info": {
   "codemirror_mode": {
    "name": "ipython",
    "version": 3
   },
   "file_extension": ".py",
   "mimetype": "text/x-python",
   "name": "python",
   "nbconvert_exporter": "python",
   "pygments_lexer": "ipython3",
   "version": "3.7.3"
  }
 },
 "nbformat": 4,
 "nbformat_minor": 2
}
