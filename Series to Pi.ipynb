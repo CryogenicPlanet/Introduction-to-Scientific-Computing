{
 "cells": [
  {
   "cell_type": "code",
   "execution_count": 12,
   "metadata": {},
   "outputs": [
    {
     "name": "stdout",
     "output_type": "stream",
     "text": [
      "5\n",
      "9\n",
      "13\n",
      "17\n",
      "21\n",
      "4.0\n"
     ]
    }
   ],
   "source": [
    "sum = 1\n",
    "base = 1\n",
    "for i in range(1,11):\n",
    "    sign = (-1)**(i)\n",
    "    if i % 2 == 1:\n",
    "        base = base + 4\n",
    "        print(base)\n",
    "    #print(sign*(1/base))\n",
    "    sum = sum + sign*(1/base)\n",
    "pi = sum*4\n",
    "print(pi)\n",
    "# Bad solution"
   ]
  },
  {
   "cell_type": "code",
   "execution_count": 14,
   "metadata": {},
   "outputs": [
    {
     "name": "stdout",
     "output_type": "stream",
     "text": [
      "3.1315929035585537\n"
     ]
    }
   ],
   "source": [
    "pi = 0\n",
    "for i in range(100):\n",
    "    pi += ((-1)**i)/(2*i+1)\n",
    "print(4*pi)"
   ]
  },
  {
   "cell_type": "code",
   "execution_count": 16,
   "metadata": {},
   "outputs": [
    {
     "name": "stdout",
     "output_type": "stream",
     "text": [
      "4294967296\n"
     ]
    }
   ],
   "source": [
    "print(2**32)"
   ]
  },
  {
   "cell_type": "code",
   "execution_count": 17,
   "metadata": {},
   "outputs": [],
   "source": [
    "def g(i):\n",
    "    if i < 2:\n",
    "        return i\n",
    "    else:\n",
    "        return g(i-1) + g(i-2)"
   ]
  },
  {
   "cell_type": "code",
   "execution_count": 21,
   "metadata": {},
   "outputs": [
    {
     "name": "stdout",
     "output_type": "stream",
     "text": [
      "2\n"
     ]
    }
   ],
   "source": [
    "print(g(3))"
   ]
  },
  {
   "cell_type": "code",
   "execution_count": 27,
   "metadata": {},
   "outputs": [
    {
     "name": "stdout",
     "output_type": "stream",
     "text": [
      "0\n",
      "1\n",
      "1\n",
      "2\n",
      "3\n",
      "5\n",
      "8\n",
      "13\n",
      "21\n",
      "34\n"
     ]
    }
   ],
   "source": [
    "for i in range(10):\n",
    "    print(g(i))"
   ]
  },
  {
   "cell_type": "code",
   "execution_count": 31,
   "metadata": {},
   "outputs": [],
   "source": [
    "def checkSign(a,b):\n",
    "    if np.sign(a) == np.sign(b):\n",
    "        return True\n",
    "    else:\n",
    "        return False\n",
    "def f(x):\n",
    "    \"\"\"\n",
    "    Example function \n",
    "    \"\"\"\n",
    "    return (x - 2)**2 -4"
   ]
  },
  {
   "cell_type": "code",
   "execution_count": 36,
   "metadata": {},
   "outputs": [
    {
     "ename": "SyntaxError",
     "evalue": "unexpected EOF while parsing (<ipython-input-36-22c6290920fb>, line 6)",
     "output_type": "error",
     "traceback": [
      "\u001b[0;36m  File \u001b[0;32m\"<ipython-input-36-22c6290920fb>\"\u001b[0;36m, line \u001b[0;32m6\u001b[0m\n\u001b[0;31m    while i < n+1:\u001b[0m\n\u001b[0m                  ^\u001b[0m\n\u001b[0;31mSyntaxError\u001b[0m\u001b[0;31m:\u001b[0m unexpected EOF while parsing\n"
     ]
    }
   ],
   "source": [
    "import numpy as np\n",
    "def bisection(func,a,b,n):\n",
    "    \"\"\"\n",
    "    Function to implement bisection method\n",
    "    \"\"\"\n",
    "    while i < n+1:\n",
    "        c = (a+b)/2\n",
    "        if func(c) = (b-a)/2:\n",
    "            "
   ]
  },
  {
   "cell_type": "code",
   "execution_count": 26,
   "metadata": {},
   "outputs": [],
   "source": []
  },
  {
   "cell_type": "code",
   "execution_count": null,
   "metadata": {},
   "outputs": [],
   "source": []
  }
 ],
 "metadata": {
  "kernelspec": {
   "display_name": "Python 3",
   "language": "python",
   "name": "python3"
  },
  "language_info": {
   "codemirror_mode": {
    "name": "ipython",
    "version": 3
   },
   "file_extension": ".py",
   "mimetype": "text/x-python",
   "name": "python",
   "nbconvert_exporter": "python",
   "pygments_lexer": "ipython3",
   "version": "3.7.3"
  }
 },
 "nbformat": 4,
 "nbformat_minor": 2
}
