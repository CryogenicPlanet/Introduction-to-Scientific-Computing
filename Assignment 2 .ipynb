{
 "cells": [
  {
   "cell_type": "markdown",
   "metadata": {},
   "source": [
    "# Assigment-2\n",
    "\n",
    "Name - Rahul Tarak Balaji\n",
    "Utorid - tarakbal\n",
    "Student No - 1005934198\n",
    "\n",
    "### Imports - All three questions"
   ]
  },
  {
   "cell_type": "code",
   "execution_count": 1,
   "metadata": {},
   "outputs": [],
   "source": [
    "from scipy import stats\n",
    "import numpy as np\n",
    "import time\n",
    "import random\n",
    "import matplotlib.pyplot as plt\n",
    "from statistics import mean \n",
    "%matplotlib inline"
   ]
  },
  {
   "cell_type": "markdown",
   "metadata": {},
   "source": [
    "## Problem 1\n",
    "Range of Cogs/yr = [1200,2400] , Number of Villagers = 12000, Tax of Pharaoh = 6%(1 +x/1000), Tax from you is 1.5% after tax of pharaoh, tax break from you is 08.% if they share lunar birthday month ± 1\n",
    "\n",
    "\n",
    "The below solution makes one big **assumption, which is that it is equally as likely that you are born on any of the lunar months, this wouldn't be true in the real world.** Furthermore, as the solution uses random numbers only to eliminate some bias, however a more accurate solution would use a random distribution for each set instead of just picking a continuous group of 3000 people or continuous groups of 920 people"
   ]
  },
  {
   "cell_type": "code",
   "execution_count": 86,
   "metadata": {
    "scrolled": true
   },
   "outputs": [
    {
     "name": "stdout",
     "output_type": "stream",
     "text": [
      "Calculating tax for random birth month and random set of public worker\n",
      "\n",
      "Tax collected by Pharaoh - 2786693.4094506376\n",
      "Tax collected by Tax Collector(Me) - 250748.95496361164\n"
     ]
    }
   ],
   "source": [
    "# Change selection of public workers from first 3000 to skip every 3rd or 4th person\n",
    "# Same process selection of birthdays\n",
    "def calculate_tax():\n",
    "    # Creates values of earnings for each villager\n",
    "    earnings = np.linspace(1200,2400,12000)\n",
    "    # Choose a random set\n",
    "    \"\"\"Realising the problems asks not to use a random distribution to gain more accurarcy\n",
    "    Hence the subset will be picked but skipping every nth person, for both public workers and tax exception due to birthdays.\n",
    "    This n will be picked randomly.\"\"\"\n",
    "    randomSet = 4\n",
    "    # Create empty array of undefined size\n",
    "    earningsAfterPharaohTax = np.array([])\n",
    "    # Assign array of public works, i.e, they get tax break from pharaoh\n",
    "    publicWorkers = earnings[randomSet::randomSet]\n",
    "    #print(len(publicWorkers))\n",
    "    normalWorkers = np.delete(earnings,np.arange(randomSet, earnings.size, randomSet))\n",
    "    #print((normalWorkers))\n",
    "    pharoahTax = normalWorkers*(0.06*(1+(normalWorkers/1000)))\n",
    "    #print(pharoahTax)\n",
    "    earningsAfterPharaohTax = normalWorkers - pharoahTax\n",
    "    earningsAfterPharaohTax = np.append(earningsAfterPharaohTax,publicWorkers)\n",
    "    # Choose a random birth month, above note about randomising holds true here too\n",
    "    myBirthday = 13\n",
    "    # Create blank lists\n",
    "    taxExemptWorkers = []\n",
    "    defaultTaxedWorkers = []\n",
    "    # Check if which tax bracket each person falls in and assign them to that list\n",
    "    for i in range(12000):\n",
    "        if (i % myBirthday == 0 or i % (myBirthday + 1) == 0 or i % (myBirthday-1) == 0):\n",
    "            taxExemptWorkers.append(earningsAfterPharaohTax[i])\n",
    "        else:\n",
    "            defaultTaxedWorkers.append(earningsAfterPharaohTax[i])\n",
    "    # Convert python lists to numpy arrays\n",
    "    defaultTaxedWorkers = np.array(defaultTaxedWorkers)\n",
    "    taxExemptWorkers = np.array(taxExemptWorkers)\n",
    "    # Apply the tax rate for each person and find the tax\n",
    "    taxCollected = np.append(defaultTaxedWorkers*0.015,taxExemptWorkers*0.007)\n",
    "    return[pharoahTax,taxCollected]\n",
    "print(\"Calculating tax for random birth month and random set of public worker\\n\")\n",
    "taxes = calculate_tax()\n",
    "# Display sum of all the tax collected by the Pharoah\n",
    "print(\"Tax collected by Pharaoh -\",np.sum(taxes[0]))\n",
    "# Display the sum of all the tax collected by the Tax Collector\n",
    "print(\"Tax collected by Tax Collector(Me) -\",np.sum(taxes[1]))"
   ]
  },
  {
   "cell_type": "markdown",
   "metadata": {},
   "source": [
    "By choosing the randomize which set of citizens are public workers and which set of citizens have the same birth month ± 1 as me, there will be a slight variation in answer each time the program is run, however if we run it many times and average the values we will get a more accurate answer\n",
    "\n",
    "## Problem 2"
   ]
  },
  {
   "cell_type": "code",
   "execution_count": 2,
   "metadata": {},
   "outputs": [
    {
     "name": "stdout",
     "output_type": "stream",
     "text": [
      "150  - Number of Months required to pay back the loan\n"
     ]
    }
   ],
   "source": [
    "def loanLeft(currentLoan,interestAmount,payment):\n",
    "    \"\"\"\n",
    "    Returns remaining loan after current payment and interest\n",
    "    \"\"\"\n",
    "    newLoanAmount = currentLoan - (payment -interestAmount)\n",
    "    return newLoanAmount\n",
    "def loan(interestRate):\n",
    "    \"\"\"\n",
    "    Returns loafLeft from start to end as array of values from a given interest rates\n",
    "    \"\"\"\n",
    "    #Constants\n",
    "    principal = 36000.0\n",
    "    firstPayment = 300 \n",
    "    secondPayment = 380\n",
    "    \n",
    "    loanAmount = principal\n",
    "    # Using first interest rate\n",
    "    interest = (interestRate[0]/100)/12 \n",
    "    \n",
    "    interestAmount = principal*(interest) \n",
    "    yValues = []\n",
    "    yValues.append(loanAmount)\n",
    "    # Calculate loan for first 24 months or 2 years at first payment rate\n",
    "    for x in range(1,24):\n",
    "        yValues.append(loanLeft(yValues[x-1],interestAmount,firstPayment))\n",
    "    # Same Regardless of Case\n",
    "    loanAmount = loanLeft(yValues[23],interestAmount,secondPayment)\n",
    "    yValues.append(loanAmount)\n",
    "    x = 25\n",
    "    # Caculate remainder of loan after first 24 months at second payment rate\n",
    "    while loanAmount > 0:\n",
    "        if x > 24:\n",
    "            # Change interest rate to second interest rate\n",
    "            interest = (interestRate[1]/100)/12\n",
    "            interestAmount = principal*(interest)\n",
    "        elif x > 48:\n",
    "            # Change interest rate to third interest rate\n",
    "            interest = (interestRate[2]/100)/12\n",
    "            interestAmount = principal*(interest)\n",
    "        loanAmount = loanLeft(yValues[x-1],interestAmount,secondPayment)\n",
    "        x += 1\n",
    "        yValues.append(loanAmount)\n",
    "    return yValues\n",
    "yValuesCase1 = loan([4.2,4.2,4.2]) # Constant Interest Rate\n",
    "print(len(yValuesCase1),\" - Number of Months required to pay back the loan\")\n",
    "yValuesCase2 = loan([4.2,5.2,5.7]) # Interest Rate changes every 2 years   "
   ]
  },
  {
   "cell_type": "code",
   "execution_count": 52,
   "metadata": {},
   "outputs": [
    {
     "data": {
      "image/png": "[encoded data removed]",
      "text/plain": [
       "<Figure size 1152x648 with 1 Axes>"
      ]
     },
     "metadata": {
      "needs_background": "light"
     },
     "output_type": "display_data"
    }
   ],
   "source": [
    "xValuesCase1 = np.arange(1,len(yValuesCase1)+1)\n",
    "xValuesCase2 = np.arange(1,len(yValuesCase2)+1)\n",
    "plt.figure(figsize=(16,9)) # Setting Larger Graph Size\n",
    "plt.plot(xValuesCase1,yValuesCase1,\"green\",label = \"Case 1\") # Creating plots\n",
    "plt.plot(xValuesCase2,yValuesCase2,\"red\",label = \"Case 2\") # Creating plots\n",
    "plt.title(\"Loan Payment\")\n",
    "plt.xlabel(\"Number of Months\")\n",
    "plt.ylabel(\"Loan Left\")\n",
    "axes = plt.gca()\n",
    "axes.legend()\n",
    "axes.set_facecolor('xkcd:white')\n",
    "plt.show()"
   ]
  },
  {
   "cell_type": "markdown",
   "metadata": {},
   "source": [
    "## Problem 3\n",
    "\n",
    "Last Digit of Student id is 8 for me hence D = 8\n",
    "\n",
    "$$ f(x,y) = 1 + 0.1\\times8\\times x - 4\\times\\sqrt{2} \\times x\\times y^{(-x-y\\times y)} , x \\in [0,3] , y \\in [0,3]$$"
   ]
  },
  {
   "cell_type": "code",
   "execution_count": 3,
   "metadata": {},
   "outputs": [
    {
     "name": "stdout",
     "output_type": "stream",
     "text": [
      "Methond 1 \n",
      " -4.605999599982886 - Local Minima of f\n",
      " 0.7807807807807807 - X Value of Minima 0.7807807807807807 - Y Value of Minima\n",
      " 0.002111196517944336 - Execution Time\n",
      "\n",
      "\n",
      "Method 2, Finding Gradient\n",
      "\n",
      "0.0002012737085297367 - First Derravative of Minima\n",
      "0.00010063685426486835 - Second Derravative of Minima\n",
      "0.0022287368774414062 - Execution Time\n",
      "-4.605999599982886 - Local Minima of f, using numpy amin function\n",
      "-4.605950162921484 - Calculated Minima of f\n",
      "0.7837837837837838 - X Value of Minima\n",
      "0.7837837837837838 - Y Value of Minima\n"
     ]
    }
   ],
   "source": [
    "startTime = time.time()\n",
    "# Creating Large Mesh of X and Y Values\n",
    "x = np.linspace(0,3,1000)\n",
    "y = np.linspace(0,3,1000)\n",
    "#Creating matrix of f values\n",
    "f = 1 + 0.1*8*x - 4*np.sqrt(2)*x*y**(-x-y*y)\n",
    "# Method 1\n",
    "minima = 10000\n",
    "xMinima,yMinima = 0,0\n",
    "# Manually going through the entire mesh to find the smallest value of f\n",
    "for i in range(1000):\n",
    "    if minima > f[i]:\n",
    "        minima = min(f[i],minima)\n",
    "        xMinima,yMinima = x[i],y[i]\n",
    "print(\"Methond 1 \\n\",minima,\"- Local Minima of f\\n\",xMinima,\"- X Value of Minima\",yMinima,\"- Y Value of Minima\\n\",time.time() -startTime,\"- Execution Time\\n\\n\")\n",
    "\n",
    "print(\"Method 2, Finding Gradient\\n\")\n",
    "startTime = time.time()\n",
    "# Differiating once, to find gradient near zero,\n",
    "gradient = np.gradient(f) \n",
    " # Differiating twice, to prove that gradient is postive and hence minima not maxima\n",
    "secondDerravative = np.gradient(f,2)\n",
    "# For every gradient, checking if secondDerravative is postive and if it is minima gradient\n",
    "gradientOfMinima = gradient[np.where(secondDerravative > 0)]\n",
    "gradientOfMinima = np.amin(gradientOfMinima)\n",
    "print(gradientOfMinima, \"- First Derravative of Minima\")\n",
    "print(secondDerravative[np.where(gradient == gradientOfMinima)][0], \"- Second Derravative of Minima\")\n",
    "print( time.time() -startTime,\"- Execution Time\")\n",
    "print(np.amin(f),\"- Local Minima of f, using numpy amin function\")\n",
    "print(f[np.where(gradient == gradientOfMinima)][0], \"- Calculated Minima of f\")\n",
    "print(x[np.where(gradient == gradientOfMinima)][0],\"- X Value of Minima\")\n",
    "print(y[np.where(gradient == gradientOfMinima)][0],\"- Y Value of Minima\")"
   ]
  },
  {
   "cell_type": "markdown",
   "metadata": {},
   "source": [
    "## Problem 4\n"
   ]
  },
  {
   "cell_type": "code",
   "execution_count": 2,
   "metadata": {
    "scrolled": true
   },
   "outputs": [
    {
     "name": "stdout",
     "output_type": "stream",
     "text": [
      "100000000 74999779 0.74999779 - N, Less than 0.5 values, Probability\n",
      "\n",
      "Probability - 0.74999779\n",
      "\n",
      " 0.33332397721128343 +- 2.7775344993937186e-10 ; 0.003085879158128926 - Mean and Standard Deviation\n"
     ]
    }
   ],
   "source": [
    "n = 100000000 # Arbitary Large Value\n",
    "# Create random arrays of numbers\n",
    "t1 = np.random.rand(n)\n",
    "t2 = np.random.rand(n)\n",
    "# Distance between two points\n",
    "distance = np.absolute(t1 - t2)\n",
    "# Check if distance is less than 0.5\n",
    "lessThanHalf = np.where(distance < 1/2)[0]\n",
    "# Find probability that distance is less than 0.5\n",
    "prob = len(lessThanHalf)/len(t1)\n",
    "print(len(t1),len(lessThanHalf),prob,\"- N, Less than 0.5 values, Probability\\n\")\n",
    "print(\"Probability -\",prob)\n",
    "# Find variance of distance between two points\n",
    "variance = np.var(distance) \n",
    "# Standard Deviation of the distance\n",
    "sigma = variance**2\n",
    "# Standard Deviation of the average distance\n",
    "sigm_a = (variance/n)**1/2\n",
    "print(\"\\n\",np.mean(distance),\"+-\",sigm_a,\";\",sigma, \"- Mean and Standard Deviation\")"
   ]
  },
  {
   "cell_type": "code",
   "execution_count": null,
   "metadata": {},
   "outputs": [],
   "source": []
  }
 ],
 "metadata": {
  "kernelspec": {
   "display_name": "Python 3",
   "language": "python",
   "name": "python3"
  },
  "language_info": {
   "codemirror_mode": {
    "name": "ipython",
    "version": 3
   },
   "file_extension": ".py",
   "mimetype": "text/x-python",
   "name": "python",
   "nbconvert_exporter": "python",
   "pygments_lexer": "ipython3",
   "version": "3.7.3"
  }
 },
 "nbformat": 4,
 "nbformat_minor": 2
}
